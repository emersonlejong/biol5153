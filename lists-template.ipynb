{
 "cells": [
  {
   "cell_type": "markdown",
   "metadata": {},
   "source": [
    "## Working with lists"
   ]
  },
  {
   "cell_type": "code",
   "execution_count": 2,
   "metadata": {},
   "outputs": [],
   "source": [
    "# declare an empty string\n",
    "bob = ''\n",
    "\n",
    "# declare a list\n",
    "beatles = []"
   ]
  },
  {
   "cell_type": "markdown",
   "metadata": {},
   "source": [
    "### What kind of variable is this?"
   ]
  },
  {
   "cell_type": "code",
   "execution_count": 4,
   "metadata": {},
   "outputs": [
    {
     "name": "stdout",
     "output_type": "stream",
     "text": [
      "<class 'list'>\n"
     ]
    }
   ],
   "source": [
    " print(type(beatles))"
   ]
  },
  {
   "cell_type": "markdown",
   "metadata": {},
   "source": [
    "### Populate and print a list"
   ]
  },
  {
   "cell_type": "code",
   "execution_count": 18,
   "metadata": {},
   "outputs": [
    {
     "name": "stdout",
     "output_type": "stream",
     "text": [
      "['John', 'Paul', 'George', 'Ringo']\n"
     ]
    }
   ],
   "source": [
    "beatles = [\"John\", \"Paul\", \"George\", \"Ringo\"]\n",
    "print(beatles)"
   ]
  },
  {
   "cell_type": "markdown",
   "metadata": {
    "tags": []
   },
   "source": [
    "### Calculate and print the length of a list"
   ]
  },
  {
   "cell_type": "code",
   "execution_count": 11,
   "metadata": {
    "tags": []
   },
   "outputs": [
    {
     "name": "stdout",
     "output_type": "stream",
     "text": [
      "There are 4 Beatles\n"
     ]
    }
   ],
   "source": [
    "# calculate number of beatles\n",
    "\n",
    "number_of_beatles = len(beatles)\n",
    "\n",
    "# print number of beatles\n",
    "\n",
    "print(\"There are\", number_of_beatles, \"Beatles\")\n"
   ]
  },
  {
   "cell_type": "markdown",
   "metadata": {},
   "source": [
    "### Print an item in a list \n",
    "   \n",
    "   _see PowerPoint slides_"
   ]
  },
  {
   "cell_type": "code",
   "execution_count": 16,
   "metadata": {
    "tags": []
   },
   "outputs": [
    {
     "name": "stdout",
     "output_type": "stream",
     "text": [
      "John\n",
      "Ringo\n",
      "Stuart\n"
     ]
    }
   ],
   "source": [
    "# print the first beatle\n",
    "\n",
    "print(beatles[0])\n",
    "\n",
    "# print the last Beatle\n",
    "\n",
    "print(beatles[3])\n",
    "print(beatles[-1])\n"
   ]
  },
  {
   "cell_type": "markdown",
   "metadata": {
    "tags": []
   },
   "source": [
    "### Remove an item from a list"
   ]
  },
  {
   "cell_type": "code",
   "execution_count": 35,
   "metadata": {
    "tags": []
   },
   "outputs": [
    {
     "name": "stdout",
     "output_type": "stream",
     "text": [
      "['John', 'Paul', 'George', 'Ringo', 'Stuart']\n"
     ]
    }
   ],
   "source": [
    "#add Stuart and reset beatles\n",
    "\n",
    "beatles = ['John', 'Paul', 'George', 'Ringo']\n",
    "\n",
    "beatles.append(\"Stuart\")\n",
    "print(beatles)\n",
    "\n"
   ]
  },
  {
   "cell_type": "markdown",
   "metadata": {},
   "source": [
    "### Make a new list"
   ]
  },
  {
   "cell_type": "code",
   "execution_count": 20,
   "metadata": {},
   "outputs": [
    {
     "name": "stdout",
     "output_type": "stream",
     "text": [
      "['Mick', 'Ron', 'Keith']\n"
     ]
    }
   ],
   "source": [
    "# make a list called 'stones' with the Rolling Stones (Mick, Ron, and Keith)\n",
    "\n",
    "stones = [\"Mick\", \"Ron\", \"Keith\"]\n",
    "print(stones)"
   ]
  },
  {
   "cell_type": "markdown",
   "metadata": {},
   "source": [
    "### Add two lists"
   ]
  },
  {
   "cell_type": "code",
   "execution_count": 38,
   "metadata": {
    "tags": []
   },
   "outputs": [
    {
     "name": "stdout",
     "output_type": "stream",
     "text": [
      "bob dylan\n",
      "['John', 'Paul', 'George', 'Ringo', 'Mick', 'Ron', 'Keith']\n",
      "7\n"
     ]
    }
   ],
   "source": [
    "# add two strings\n",
    "\n",
    "first = 'bob'\n",
    "last = 'dylan'\n",
    "print(first + \" \" + last)\n",
    "\n",
    "# add two lists together\n",
    "supergroup = beatles + stones\n",
    "\n",
    "# print our new list\n",
    "print(supergroup)\n",
    "print(len(supergroup))"
   ]
  },
  {
   "cell_type": "markdown",
   "metadata": {},
   "source": [
    "### Make some new lists"
   ]
  },
  {
   "cell_type": "code",
   "execution_count": 64,
   "metadata": {},
   "outputs": [],
   "source": [
    "# start fresh with new groups\n",
    "jackson5 = ['jackie', 'tito', 'jermaine', 'marlon', 'michael']\n",
    "destiny  = ['beyonce', 'kelly', 'michelle']\n",
    "top40    = ['taylorswift', 'postmalone']\n",
    "\n",
    "# make a supergroup"
   ]
  },
  {
   "cell_type": "markdown",
   "metadata": {},
   "source": [
    "### Growing a list with `extend()`"
   ]
  },
  {
   "cell_type": "code",
   "execution_count": 48,
   "metadata": {
    "tags": []
   },
   "outputs": [
    {
     "name": "stdout",
     "output_type": "stream",
     "text": [
      "['jackie', 'tito', 'jermaine', 'marlon', 'michael']\n",
      "['beyonce', 'kelly', 'michelle']\n",
      "['taylorswift', 'postmalone']\n",
      "None\n"
     ]
    }
   ],
   "source": [
    "# print our lists\n",
    "\n",
    "print(jackson5)\n",
    "print(destiny)\n",
    "print(top40)\n",
    "\n",
    "# use extend() to add Destiny's Child to the Jackson 5\n",
    "\n",
    "super = jackson5.extend(destiny)\n",
    "\n",
    "print(super)\n"
   ]
  },
  {
   "cell_type": "code",
   "execution_count": 49,
   "metadata": {},
   "outputs": [
    {
     "name": "stdout",
     "output_type": "stream",
     "text": [
      "['jackie', 'tito', 'jermaine', 'marlon', 'michael', 'beyonce', 'kelly', 'michelle']\n"
     ]
    }
   ],
   "source": [
    "\n",
    "# extend() modifies a list in place, it doesn't return a value (i.e., a new list)\n",
    "\n",
    "print(jackson5)"
   ]
  },
  {
   "cell_type": "code",
   "execution_count": 52,
   "metadata": {
    "tags": []
   },
   "outputs": [
    {
     "name": "stdout",
     "output_type": "stream",
     "text": [
      "['jackie', 'tito', 'jermaine', 'marlon', 'michael', 'beyonce', 'kelly', 'michelle']\n"
     ]
    }
   ],
   "source": [
    "# use \"+\" if you want to create a new list\n",
    "\n",
    "super = jackson5 + destiny\n",
    "print(super)"
   ]
  },
  {
   "cell_type": "markdown",
   "metadata": {},
   "source": [
    "### Growing a list with `append()`"
   ]
  },
  {
   "cell_type": "code",
   "execution_count": 65,
   "metadata": {
    "tags": []
   },
   "outputs": [
    {
     "name": "stdout",
     "output_type": "stream",
     "text": [
      "['beyonce', 'kelly', 'michelle', 'bob']\n",
      "['beyonce', 'kelly', 'michelle', 'bob', ['John', 'Paul', 'Ringo', 'George']]\n"
     ]
    }
   ],
   "source": [
    "# use `append()` to add some old men\n",
    "\n",
    "destiny.append('bob')\n",
    "print(destiny)\n",
    "\n",
    "destiny.append(['John', 'Paul', 'Ringo', 'George'])\n",
    "print(destiny)\n",
    "\n",
    "\n",
    "\n",
    "# What did append do?"
   ]
  },
  {
   "cell_type": "code",
   "execution_count": 67,
   "metadata": {},
   "outputs": [
    {
     "name": "stdout",
     "output_type": "stream",
     "text": [
      "<class 'str'>\n",
      "<class 'list'>\n"
     ]
    }
   ],
   "source": [
    "print(type(destiny[3]))\n",
    "print(type(destiny[4]))"
   ]
  },
  {
   "cell_type": "code",
   "execution_count": 70,
   "metadata": {
    "tags": []
   },
   "outputs": [
    {
     "name": "stdout",
     "output_type": "stream",
     "text": [
      "5\n",
      "Ringo\n"
     ]
    }
   ],
   "source": [
    "# How long is this list?\n",
    "\n",
    "print(len(destiny))\n",
    "\n",
    "# Find and print Ringo, who is buried in there\n",
    "\n",
    "\n",
    "print(destiny[4][2])\n",
    "\n"
   ]
  },
  {
   "cell_type": "markdown",
   "metadata": {},
   "source": [
    "## Looping over a list\n",
    "\n",
    "structure of a for loop\n",
    "\n",
    "for <variable> in <name of list>:\n",
    "    do something"
   ]
  },
  {
   "cell_type": "code",
   "execution_count": 73,
   "metadata": {},
   "outputs": [
    {
     "name": "stdout",
     "output_type": "stream",
     "text": [
      "beyonce\n",
      "kelly\n",
      "michelle\n",
      "bob\n",
      "['John', 'Paul', 'Ringo', 'George']\n"
     ]
    }
   ],
   "source": [
    "#loop over destiny\n",
    "\n",
    "for i in destiny:\n",
    "    print(i)"
   ]
  },
  {
   "cell_type": "code",
   "execution_count": 74,
   "metadata": {},
   "outputs": [
    {
     "name": "stdout",
     "output_type": "stream",
     "text": [
      "John\n",
      "Paul\n",
      "Ringo\n",
      "George\n"
     ]
    }
   ],
   "source": [
    "# loop over just beatles in destiny list\n",
    "\n",
    "for i in destiny[4]:\n",
    "    print(i)"
   ]
  },
  {
   "cell_type": "markdown",
   "metadata": {},
   "source": [
    "\n",
    "### introduce a test"
   ]
  },
  {
   "cell_type": "code",
   "execution_count": 85,
   "metadata": {},
   "outputs": [
    {
     "name": "stdout",
     "output_type": "stream",
     "text": [
      "This is a string: beyonce\n",
      "This is a string: kelly\n",
      "This is a string: michelle\n",
      "This is a string: bob\n",
      "This is a list: ['John', 'Paul', 'Ringo', 'George']\n"
     ]
    }
   ],
   "source": [
    "# is the value a list or sting?\n",
    "\n",
    "for i in destiny:\n",
    "\n",
    "    #if list is true\n",
    "    if type(i) is list:\n",
    "        print(\"This is a list:\", i)\n",
    "    \n",
    "    #else we know its a string\n",
    "    else:\n",
    "        print(\"This is a string:\", i)"
   ]
  },
  {
   "cell_type": "markdown",
   "metadata": {},
   "source": [
    "### executing a nested for loop"
   ]
  },
  {
   "cell_type": "code",
   "execution_count": 92,
   "metadata": {},
   "outputs": [
    {
     "name": "stdout",
     "output_type": "stream",
     "text": [
      "beyonce\n",
      "kelly\n",
      "michelle\n",
      "bob\n",
      "John\n",
      "Paul\n",
      "Ringo\n",
      "George\n"
     ]
    }
   ],
   "source": [
    "# loop everything in a list no matter type\n",
    "\n",
    "for i in destiny:\n",
    "    \n",
    "    if type(i) is list:\n",
    "        for bandmate in i:\n",
    "            print(bandmate)\n",
    "    else:\n",
    "        print(i)\n"
   ]
  },
  {
   "cell_type": "code",
   "execution_count": null,
   "metadata": {},
   "outputs": [],
   "source": []
  }
 ],
 "metadata": {
  "kernelspec": {
   "display_name": "Python 3",
   "language": "python",
   "name": "python3"
  },
  "language_info": {
   "codemirror_mode": {
    "name": "ipython",
    "version": 3
   },
   "file_extension": ".py",
   "mimetype": "text/x-python",
   "name": "python",
   "nbconvert_exporter": "python",
   "pygments_lexer": "ipython3",
   "version": "3.9.10"
  }
 },
 "nbformat": 4,
 "nbformat_minor": 2
}
